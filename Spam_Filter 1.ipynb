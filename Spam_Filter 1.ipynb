{
 "cells": [
  {
   "cell_type": "markdown",
   "metadata": {},
   "source": [
    "# Spam Filter\n",
    "I will be processing the content of the email and converting it into a list of words. Then comparsion would be made between this list and an another list which is named as \"Keyword\" list. This list contains essential words that would trigger the spam filter. This will also be containing words that won't trigger spam filter. \n",
    "Each word in the processed mail will be compared to the keyword list. If the word is present in the keyword list then the index of the keyword will be noted in another vector. This vector would be acting as nodes of the first layer.   "
   ]
  },
  {
   "cell_type": "code",
   "execution_count": 1,
   "metadata": {},
   "outputs": [
    {
     "name": "stderr",
     "output_type": "stream",
     "text": [
      "[nltk_data] Downloading package punkt to\n",
      "[nltk_data]     C:\\Users\\karti\\AppData\\Roaming\\nltk_data...\n",
      "[nltk_data]   Package punkt is already up-to-date!\n",
      "[nltk_data] Downloading package stopwords to\n",
      "[nltk_data]     C:\\Users\\karti\\AppData\\Roaming\\nltk_data...\n",
      "[nltk_data]   Package stopwords is already up-to-date!\n"
     ]
    },
    {
     "data": {
      "text/plain": [
       "True"
      ]
     },
     "execution_count": 1,
     "metadata": {},
     "output_type": "execute_result"
    }
   ],
   "source": [
    "import nltk\n",
    "import math\n",
    "from sklearn.feature_extraction.text import CountVectorizer\n",
    "from sklearn.feature_extraction.text import TfidfVectorizer\n",
    "from nltk.corpus import stopwords\n",
    "from nltk.tokenize import word_tokenize \n",
    "from nltk.stem import PorterStemmer\n",
    "import matplotlib.pyplot as plt\n",
    "import numpy as np \n",
    "import string\n",
    "import pandas as pd \n",
    "import csv\n",
    "nltk.download('punkt')\n",
    "nltk.download('stopwords')"
   ]
  },
  {
   "cell_type": "code",
   "execution_count": 2,
   "metadata": {},
   "outputs": [],
   "source": [
    "#data_set = pd.read_csv('emails.csv')\n",
    "#keyword = pd.read_csv('vocab.txt')\n",
    "data_set = open('emails.csv')\n",
    "# keyword = open('vocab.csv')  "
   ]
  },
  {
   "cell_type": "code",
   "execution_count": 3,
   "metadata": {},
   "outputs": [],
   "source": [
    "file = csv.reader(data_set)\n",
    "#word_list = csv.reader(keyword) # I am not using it anymore"
   ]
  },
  {
   "cell_type": "code",
   "execution_count": 4,
   "metadata": {},
   "outputs": [],
   "source": [
    "###### Loading the data andseperating it into X and Y for ease of building.\n",
    "\n",
    "\n",
    "X = []\n",
    "Y = []\n",
    "for (a,b) in file:\n",
    "    X.append(a)\n",
    "    Y.append(b)\n",
    "    "
   ]
  },
  {
   "cell_type": "code",
   "execution_count": 5,
   "metadata": {},
   "outputs": [
    {
     "data": {
      "text/plain": [
       "'\\nspam_trigger = []\\nfor word in word_list:\\n    print(word)\\n    x = np.squeeze(word)\\n    spam_trigger.append(str(x))  \\nprint(\"done\")    \\n'"
      ]
     },
     "execution_count": 5,
     "metadata": {},
     "output_type": "execute_result"
    }
   ],
   "source": [
    "#  IT IS OF NO USE (I TRIED IT SVM KERNEL method of SPAM FILTER) but it failed miserably\n",
    "'''\n",
    "spam_trigger = []\n",
    "for word in word_list:\n",
    "    print(word)\n",
    "    x = np.squeeze(word)\n",
    "    spam_trigger.append(str(x))  \n",
    "print(\"done\")    \n",
    "'''    "
   ]
  },
  {
   "cell_type": "code",
   "execution_count": 6,
   "metadata": {},
   "outputs": [],
   "source": [
    "Y_data_set = np.zeros(shape = (1, len(Y)-1))\n",
    "for i in range(1, len(Y)-1):\n",
    "    Y_data_set[:, i] = Y[i]\n"
   ]
  },
  {
   "cell_type": "code",
   "execution_count": 7,
   "metadata": {},
   "outputs": [
    {
     "name": "stdout",
     "output_type": "stream",
     "text": [
      "(1, 5728)\n"
     ]
    }
   ],
   "source": [
    "print(Y_data_set.shape)\n",
    "Y_model_data = Y_data_set"
   ]
  },
  {
   "cell_type": "code",
   "execution_count": 8,
   "metadata": {},
   "outputs": [
    {
     "data": {
      "text/plain": [
       "5729"
      ]
     },
     "execution_count": 8,
     "metadata": {},
     "output_type": "execute_result"
    }
   ],
   "source": [
    "len(X)\n"
   ]
  },
  {
   "cell_type": "code",
   "execution_count": 9,
   "metadata": {},
   "outputs": [
    {
     "name": "stdout",
     "output_type": "stream",
     "text": [
      "(1, 5728)\n",
      "(1, 5728)\n"
     ]
    }
   ],
   "source": [
    "print(Y_model_data.shape)\n",
    "print(Y_data_set.shape)"
   ]
  },
  {
   "cell_type": "code",
   "execution_count": 10,
   "metadata": {},
   "outputs": [
    {
     "data": {
      "text/plain": [
       "array([[0., 1., 1., ..., 0., 0., 0.]])"
      ]
     },
     "execution_count": 10,
     "metadata": {},
     "output_type": "execute_result"
    }
   ],
   "source": [
    "Y_model_data"
   ]
  },
  {
   "cell_type": "markdown",
   "metadata": {},
   "source": [
    "# Data Pre Processing and data set distribution\n",
    "   It is very important to preprocess data set to remove puctuautions, stop words ( which doesnot contribute to the learning of the neural networks ) and stemming is also important. Data set has been loaded. Now the data will further be divided into training, development and test set. Another list of name keyword will be loaded for the purpose of comparision.  "
   ]
  },
  {
   "cell_type": "code",
   "execution_count": 10,
   "metadata": {},
   "outputs": [],
   "source": [
    "# This can be alternative for processing an email but now i am using TFIDF AND COUNT VECTORIZER FOR THIS METHOD\n",
    "# I am not using it any more\n",
    "'''\n",
    "\n",
    "def process_mail(message, lower_case = True, stem = True, stop_words = True, gram = 2 ):\n",
    "    if lower_case:\n",
    "        message = message.lower()\n",
    "    words = word_tokenize(message)\n",
    "    words = [w for w in words if len(w) > 2]\n",
    "    if stop_words:\n",
    "        sw = stopwords.words('english')\n",
    "        words = [word for word in words if word not in sw]\n",
    "    if stem:\n",
    "        stemmer = PorterStemmer()\n",
    "        words = [stemmer.stem(word) for word in words]\n",
    "    return words    \n",
    "    '''"
   ]
  },
  {
   "cell_type": "code",
   "execution_count": null,
   "metadata": {},
   "outputs": [],
   "source": []
  },
  {
   "cell_type": "markdown",
   "metadata": {},
   "source": [
    "# Initialization\n",
    "I will write a functions that will initialize the parameters for the model. The function will be used to initialize parameters for a L layer model (General layer model). It will require a vector of units of layer andoutput parameters.\n",
    "\n"
   ]
  },
  {
   "cell_type": "code",
   "execution_count": 11,
   "metadata": {},
   "outputs": [],
   "source": [
    "def initialize_parameters_L_layer(node_vector):\n",
    "       \n",
    "    parameters = {}\n",
    "    L = len(node_vector)            \n",
    "\n",
    "    for l in range(1, L):\n",
    "        \n",
    "        parameters['W' + str(l)] = np.random.randn(node_vector[l], node_vector[l-1]) * 0.01\n",
    "        parameters['b' + str(l)] = np.zeros(shape = (node_vector[l], 1))\n",
    "        \n",
    "    return parameters"
   ]
  },
  {
   "cell_type": "markdown",
   "metadata": {},
   "source": [
    "# Activation Function\n",
    "Activation functions like sigmoid activation function and the sigmoid function will be required in the forward propogation and backward propogation. Derivative of these function will also be rquired hence its time to code them."
   ]
  },
  {
   "cell_type": "code",
   "execution_count": 12,
   "metadata": {},
   "outputs": [],
   "source": [
    "def sigmoid(Z):\n",
    "    A = 1/(1+np.exp(-Z))\n",
    "    return A    "
   ]
  },
  {
   "cell_type": "code",
   "execution_count": 13,
   "metadata": {},
   "outputs": [],
   "source": [
    "def relu(Z):\n",
    "    A = np.maximum(Z, 0)\n",
    "    return A    "
   ]
  },
  {
   "cell_type": "code",
   "execution_count": 14,
   "metadata": {},
   "outputs": [],
   "source": [
    "def relu_derivative(x):\n",
    "    x[x<=0] = 0\n",
    "    x[x>0] = 1\n",
    "    return x"
   ]
  },
  {
   "cell_type": "code",
   "execution_count": 15,
   "metadata": {},
   "outputs": [],
   "source": [
    "def sigmoid_derivative(Z):\n",
    "    A = Z * (1-Z)\n",
    "    return A"
   ]
  },
  {
   "cell_type": "markdown",
   "metadata": {},
   "source": [
    "# Forward propogation\n",
    "Now that I am done with the initialization process, i am going to implement forward propogation"
   ]
  },
  {
   "cell_type": "code",
   "execution_count": 16,
   "metadata": {},
   "outputs": [],
   "source": [
    "def forward_propogation(parameters, X):\n",
    "    caches = []\n",
    "    A = X\n",
    "    L = len(parameters) // 2              \n",
    "        \n",
    "    for l in range(1, L):\n",
    "        A_prev = A \n",
    "     \n",
    "        Z = np.dot(parameters[\"W\" + str(l)], A_prev) + parameters[\"b\" + str(l)]\n",
    "        linear_cache = (A_prev, parameters[\"W\" + str(l)], parameters[\"b\" + str(l)])\n",
    "        A = relu(Z)\n",
    "    \n",
    "        cache = (linear_cache)\n",
    "        caches.append(cache)\n",
    "        \n",
    "    Z_hat = np.dot(parameters[\"W\" + str(L)], A) + parameters[\"b\" + str(L)]\n",
    "    linear_cache = (A, parameters[\"W\" + str(L)], parameters[\"b\" + str(L)])\n",
    "    A_hat = sigmoid(Z_hat)\n",
    "    cache = (linear_cache)\n",
    "    caches.append(cache)\n",
    "    \n",
    "            \n",
    "    return A_hat, caches"
   ]
  },
  {
   "cell_type": "markdown",
   "metadata": {},
   "source": [
    "# Cost function\n",
    "\n",
    "Now I will implement backward propagation. I also need to compute the cost to check if my model is actually learning."
   ]
  },
  {
   "cell_type": "code",
   "execution_count": 17,
   "metadata": {},
   "outputs": [],
   "source": [
    "def compute_cost(A_hat, Y):\n",
    "    m = Y.shape[1]\n",
    "\n",
    "    cost = (-1 / m) * np.sum(np.multiply(Y, np.log(A_hat)) + np.multiply(1 - Y, np.log(1 - A_hat)))\n",
    "    cost = np.squeeze(cost)     \n",
    "    \n",
    "    return cost"
   ]
  },
  {
   "cell_type": "markdown",
   "metadata": {},
   "source": [
    "# Back propogation\n",
    "Now that we have computed cost and forward propogation its time to code back propogation. I am doing it two steps because in one code cell it is becoming messy and difficult to debug."
   ]
  },
  {
   "cell_type": "code",
   "execution_count": 18,
   "metadata": {},
   "outputs": [],
   "source": [
    "def backward_prop_1(dA, cache, AL, Y_hat, activation):\n",
    "    A_prev, W, b = cache\n",
    "    \n",
    "  \n",
    "    m = A_prev.shape[1]\n",
    "    \n",
    "    if activation == \"relu\":\n",
    "        \n",
    "        dZ = dA * relu_derivative(np.dot(W, A_prev) + b)  \n",
    "        dW = (1/m) * np.dot(dZ, A_prev.T)  \n",
    "        db = (1/m) * np.sum(dZ, axis = 1, keepdims = True)\n",
    "        dA_prev = np.dot(W.T, dZ) \n",
    "                \n",
    "    elif activation == \"sigmoid\":\n",
    "        \n",
    "        # dZ = AL - Y_hat     # This line is for linear regression\n",
    "        dZ = dA * sigmoid_derivative(AL) \n",
    "        dW = (1/m) * np.dot(dZ, A_prev.T)\n",
    "        db = (1/m) * np.sum(dZ, axis = 1, keepdims = True)\n",
    "        dA_prev = np.dot(W.T, dZ)\n",
    "            \n",
    "    return dA_prev, dW, db"
   ]
  },
  {
   "cell_type": "code",
   "execution_count": 19,
   "metadata": {},
   "outputs": [],
   "source": [
    "def back_propogation(A_hat, Y, caches):\n",
    "    grads = {}\n",
    "    L = len(caches) \n",
    "    m = A_hat.shape[1]\n",
    "    Y = Y.reshape(A_hat.shape) \n",
    "    \n",
    "    dAL = - (np.divide(Y, A_hat) - np.divide(1 - Y, 1 - A_hat))\n",
    "    \n",
    "    current_cache = caches[L-1]\n",
    "    grads[\"dA\" + str(L-1)], grads[\"dW\" + str(L)], grads[\"db\" + str(L)] = backward_prop_1(dAL, current_cache, A_hat, Y, activation = \"sigmoid\")\n",
    "    \n",
    "    # Ranges from l-2 to 0\n",
    "    for l in reversed(range(L-1)):\n",
    "        \n",
    "        current_cache = caches[l]\n",
    "        \n",
    "        dA_prev_temp, dW_temp, db_temp = backward_prop_1(grads[\"dA\" + str(l+1)], current_cache, A_hat, Y, activation = \"relu\")\n",
    "        grads[\"dA\" + str(l)] = dA_prev_temp\n",
    "        grads[\"dW\" + str(l + 1)] = dW_temp\n",
    "        grads[\"db\" + str(l + 1)] = db_temp\n",
    "       \n",
    "    return grads"
   ]
  },
  {
   "cell_type": "markdown",
   "metadata": {},
   "source": [
    "# Update Parameters\n",
    "Now its time to update parameters"
   ]
  },
  {
   "cell_type": "code",
   "execution_count": 20,
   "metadata": {},
   "outputs": [],
   "source": [
    "def update_parameters(parameters, grads, learning_rate):\n",
    "        \n",
    "    L = len(parameters) // 2 \n",
    "\n",
    "    for l in range(L):\n",
    "        parameters[\"W\" + str(l+1)] = parameters[\"W\" + str(l+1)] - (learning_rate * grads[\"dW\" + str(l + 1)])  \n",
    "        parameters[\"b\" + str(l+1)] = parameters[\"b\" + str(l+1)] - (learning_rate * grads[\"db\" + str(l + 1)])\n",
    "\n",
    "    return parameters"
   ]
  },
  {
   "cell_type": "code",
   "execution_count": 21,
   "metadata": {},
   "outputs": [],
   "source": [
    "def initialize_adam(parameters) :\n",
    "    \n",
    "    L = len(parameters) // 2 # number of layers in the neural networks\n",
    "    v = {}\n",
    "    s = {}\n",
    "    \n",
    "    for l in range(L):\n",
    "    \n",
    "        v[\"dW\" + str(l+1)] = np.zeros(parameters[\"W\" + str(l+1)].shape)\n",
    "        v[\"db\" + str(l+1)] = np.zeros(parameters[\"b\" + str(l+1)].shape)\n",
    "        s[\"dW\" + str(l+1)] = np.zeros(parameters[\"W\" + str(l+1)].shape)\n",
    "        s[\"db\" + str(l+1)] = np.zeros(parameters[\"b\" + str(l+1)].shape)\n",
    "        \n",
    "    return v, s"
   ]
  },
  {
   "cell_type": "code",
   "execution_count": 22,
   "metadata": {},
   "outputs": [],
   "source": [
    "def update_parameters_with_adam(parameters, grads, v, s, t, learning_rate = 0.01,\n",
    "                                beta1 = 0.9, beta2 = 0.999,  epsilon = 1e-8):\n",
    "   \n",
    "    \n",
    "    L = len(parameters) // 2                 \n",
    "    v_corrected = {}                         \n",
    "    s_corrected = {}                         \n",
    "    \n",
    "    # Perform Adam update on all parameters\n",
    "    for l in range(L):\n",
    "       \n",
    "        v[\"dW\" + str(l+1)] = (v[\"dW\" + str(l+1)] * beta1) + ((1-beta1) * grads[\"dW\" + str(l+1)])\n",
    "        v[\"db\" + str(l+1)] = (v[\"db\" + str(l+1)] * beta1) + ((1-beta1) * grads[\"db\" + str(l+1)])\n",
    "        \n",
    "        # Compute bias-corrected first moment estimate. Inputs: \"v, beta1, t\". Output: \"v_corrected\".\n",
    "        \n",
    "        v_corrected[\"dW\" + str(l+1)] = v[\"dW\" + str(l+1)] / (1-np.power(beta1,t)) \n",
    "        v_corrected[\"db\" + str(l+1)] = v[\"db\" + str(l+1)] / (1-np.power(beta1,t))\n",
    "        \n",
    "\n",
    "        # Moving average of the squared gradients. Inputs: \"s, grads, beta2\". Output: \"s\".\n",
    "        \n",
    "        s[\"dW\" + str(l+1)] = (s[\"dW\" + str(l+1)] * beta2) + ((1-beta2) * (grads[\"dW\" + str(l+1)] ** 2))\n",
    "        s[\"db\" + str(l+1)] = (s[\"db\" + str(l+1)] * beta2) + ((1-beta2) * (grads[\"db\" + str(l+1)] ** 2))\n",
    "        \n",
    "        # Compute bias-corrected second raw moment estimate. Inputs: \"s, beta2, t\". Output: \"s_corrected\".\n",
    "        \n",
    "        s_corrected[\"dW\" + str(l+1)] = s[\"dW\" + str(l+1)] / (1-np.power(beta2,t))\n",
    "        s_corrected[\"db\" + str(l+1)] = s[\"db\" + str(l+1)] / (1-np.power(beta2,t))\n",
    "        \n",
    "        # Update parameters. Inputs: \"parameters, learning_rate, v_corrected, s_corrected, epsilon\". Output: \"parameters\".\n",
    "        \n",
    "        parameters[\"W\" + str(l+1)] = parameters[\"W\" + str(l+1)] - (learning_rate * (v_corrected[\"dW\" + str(l+1)] / np.sqrt(s_corrected[\"dW\" + str(l+1)] + epsilon))) \n",
    "        parameters[\"b\" + str(l+1)] = parameters[\"b\" + str(l+1)] - (learning_rate * (v_corrected[\"db\" + str(l+1)] / np.sqrt(s_corrected[\"db\" + str(l+1)] + epsilon)))\n",
    "        \n",
    "\n",
    "    return parameters, v, s"
   ]
  },
  {
   "cell_type": "markdown",
   "metadata": {},
   "source": [
    "# Model\n",
    "Now that we have trained all the required supplements. Here comes the real model."
   ]
  },
  {
   "cell_type": "code",
   "execution_count": 23,
   "metadata": {},
   "outputs": [
    {
     "data": {
      "text/plain": [
       "'  \\n            \\n            if k < (mini_batches-1):\\n                X = X_data[:, k*mini_batch_size : (k+1)*mini_batch_size]\\n                Y = Y_data[:, k*mini_batch_size : (k+1)*mini_batch_size]\\n            elif k >= mini_batches-1:\\n                X = X_data[:, (k+1)*mini_batch_size :]\\n                Y = Y_data[:, (k+1)*mini_batch_size :]\\n\\n            # Forward propagation\\n\\n            A_hat, caches = forward_propogation(parameters, X)\\n\\n            # Compute cost.\\n\\n            cost = compute_cost(A_hat, Y)\\n\\n            # Backward propagation.\\n\\n            grads = back_propogation(A_hat, Y, caches)\\n\\n\\n            # Update parameters.\\n\\n            #parameters = update_parameters(parameters, grads, learning_rate)\\n            t = t + 1 # Adam counter\\n            parameters, v, s = update_parameters_with_adam(parameters, grads, v, s,\\n                                                                   t, learning_rate, beta1, beta2,  epsilon)\\n\\n\\n        # Print the cost every 100 training example\\n        if print_cost and i % 100 == 0:\\n            print (\"Cost after iteration %i: %f\" %(i, cost))\\n        if print_cost and i % 100 == 0:\\n            costs.append(cost)\\n\\n    # plot the cost\\n    plt.plot(np.squeeze(costs))\\n    plt.ylabel(\\'cost\\')\\n    plt.xlabel(\\'iterations (per hundreds)\\')\\n    plt.title(\"Learning rate =\" + str(learning_rate))\\n    plt.show()\\n    \\n    return parameters, A_hat\\n'"
      ]
     },
     "execution_count": 23,
     "metadata": {},
     "output_type": "execute_result"
    }
   ],
   "source": [
    "def Spam_model(X, Y, node_vector,beta1 = 0.9, beta2 = 0.999,  epsilon = 1e-8, learning_rate = 0.009, num_iterations = 2500, print_cost=True):\n",
    "   \n",
    "    costs = []\n",
    "    t = 0\n",
    "    \n",
    "        # Parameters initialization.\n",
    "    \n",
    "    parameters = initialize_parameters_L_layer(node_vector)\n",
    "    v, s = initialize_adam(parameters)\n",
    "    \n",
    "    for i in range(0, num_iterations):\n",
    "\n",
    "        # Forward propagation\n",
    "    \n",
    "        A_hat, caches = forward_propogation(parameters, X)\n",
    "              \n",
    "        # Compute cost.\n",
    "      \n",
    "        cost = compute_cost(A_hat, Y)\n",
    "          \n",
    "        # Backward propagation.\n",
    "      \n",
    "        grads = back_propogation(A_hat, Y, caches)\n",
    "      \n",
    " \n",
    "        # Update parameters.\n",
    "      \n",
    "        #parameters = update_parameters(parameters, grads, learning_rate)\n",
    "        t = t + 1 # Adam counter\n",
    "        parameters, v, s = update_parameters_with_adam(parameters, grads, v, s,\n",
    "                                                               t, learning_rate, beta1, beta2,  epsilon)\n",
    "                        \n",
    "                \n",
    "        # Print the cost every 100 training example\n",
    "        if print_cost and i % 100 == 0:\n",
    "            print (\"Cost after iteration %i: %f\" %(i, cost))\n",
    "        if print_cost and i % 100 == 0:\n",
    "            costs.append(cost)\n",
    "            \n",
    "    # plot the cost\n",
    "    plt.plot(np.squeeze(costs))\n",
    "    plt.ylabel('cost')\n",
    "    plt.xlabel('iterations (per hundreds)')\n",
    "    plt.title(\"Learning rate =\" + str(learning_rate))\n",
    "    plt.show()\n",
    "    \n",
    "    return parameters, A_hat\n",
    "\n",
    "\n",
    "\n",
    "'''\n",
    "##_________________________Model for mini batch gradient descent ( Massive dataset )______________________________________\n",
    "\n",
    "def nn_model(X, Y, mini_batch_size , node_vector,beta1 = 0.9, beta2 = 0.999,  epsilon = 1e-8, learning_rate = 0.0075, num_iterations = 1000, print_cost=True):\n",
    "    \n",
    "    costs = []\n",
    "    t = 0\n",
    "    mini_batch_size = mini_batch_size\n",
    "    X_data = X\n",
    "    Y_data = Y\n",
    "        # Parameters initialization.\n",
    "    \n",
    "    parameters = initialize_parameters_L_layer(node_vector)\n",
    "    v, s = initialize_adam(parameters)\n",
    "    \n",
    "    m = X.shape[1]\n",
    "    print(m)\n",
    "    mini_batches = math.floor(m/mini_batch_size) # 4869/128= 38\n",
    "    print(mini_batches)\n",
    "    for i in range(num_iterations):\n",
    "        \n",
    "        for k in range(mini_batches): \n",
    "'''\n",
    "            \n",
    "            # __________________________IMPORTANT_____________________________\n",
    "            \n",
    "'''\n",
    "               While you are using mini batch gradient descent make sure that you shuffle each mini batch within itself\n",
    "               This si an important practice which should be done. I am not doing it here. \n",
    "               But you can refer Improving Deep Neural Networks/Week2/Optimization+methods.ipynb from deep learning course\n",
    "'''\n",
    "          \n",
    "'''  \n",
    "            \n",
    "            if k < (mini_batches-1):\n",
    "                X = X_data[:, k*mini_batch_size : (k+1)*mini_batch_size]\n",
    "                Y = Y_data[:, k*mini_batch_size : (k+1)*mini_batch_size]\n",
    "            elif k >= mini_batches-1:\n",
    "                X = X_data[:, (k+1)*mini_batch_size :]\n",
    "                Y = Y_data[:, (k+1)*mini_batch_size :]\n",
    "\n",
    "            # Forward propagation\n",
    "\n",
    "            A_hat, caches = forward_propogation(parameters, X)\n",
    "\n",
    "            # Compute cost.\n",
    "\n",
    "            cost = compute_cost(A_hat, Y)\n",
    "\n",
    "            # Backward propagation.\n",
    "\n",
    "            grads = back_propogation(A_hat, Y, caches)\n",
    "\n",
    "\n",
    "            # Update parameters.\n",
    "\n",
    "            #parameters = update_parameters(parameters, grads, learning_rate)\n",
    "            t = t + 1 # Adam counter\n",
    "            parameters, v, s = update_parameters_with_adam(parameters, grads, v, s,\n",
    "                                                                   t, learning_rate, beta1, beta2,  epsilon)\n",
    "\n",
    "\n",
    "        # Print the cost every 100 training example\n",
    "        if print_cost and i % 100 == 0:\n",
    "            print (\"Cost after iteration %i: %f\" %(i, cost))\n",
    "        if print_cost and i % 100 == 0:\n",
    "            costs.append(cost)\n",
    "\n",
    "    # plot the cost\n",
    "    plt.plot(np.squeeze(costs))\n",
    "    plt.ylabel('cost')\n",
    "    plt.xlabel('iterations (per hundreds)')\n",
    "    plt.title(\"Learning rate =\" + str(learning_rate))\n",
    "    plt.show()\n",
    "    \n",
    "    return parameters, A_hat\n",
    "'''"
   ]
  },
  {
   "cell_type": "markdown",
   "metadata": {},
   "source": [
    "# Count Vector & Tfidf Vectorizer\n",
    "These are two ways of converting an email content into the numerical data. these are just one liner code to apply STEMMING, AVOID STOP WORDS, TOKENIZE and CREATE DATA TO NUMBERS.\n",
    "\n",
    "Countvectorizer works the same way as tfidf vector, What you have to do is just replace tfidf with CountVectorizer() only. Rest remains the same. Tfidf works better in large data set so i have used it here. I also tried to do it myself. It was actualy what in learnt in machine learning course to develop spam filter in octave using SVM Kernel features. BU tut went wrong and was not working properly because my cost graph eventually stopped at 0.59 at didnot decreased from it any further. So I am using them now."
   ]
  },
  {
   "cell_type": "code",
   "execution_count": 24,
   "metadata": {},
   "outputs": [],
   "source": [
    "\n",
    "cv = TfidfVectorizer(min_df = 1, stop_words = 'english')"
   ]
  },
  {
   "cell_type": "code",
   "execution_count": 25,
   "metadata": {},
   "outputs": [
    {
     "data": {
      "text/plain": [
       "'\\ndef Myway_spam_inputvec():\\n    \\n    # This is what i did (for SVM KERNEL method) but it is not working properly here.\\n    \\n    X_data_set = np.random.randn(len(spam_trigger), len(X)-1)\\n    t = 0\\n    for i in range(len(X)-1):\\n        X_data = []\\n        message = X[i+1]\\n        print(f\"Processing the {i} column of the input layer\")\\n        pure_words = process_mail(message, lower_case = True, stem = True, stop_words = False, gram = 2 )\\n\\n        #print(words)#  Apply it to confirm whether the list is correct or not\\n\\n        for words in spam_trigger:\\n            for email_words in pure_words:\\n                if email_words == words:\\n                    X_data.append(spam_trigger.index(words)) \\n\\n            X_data.append(0)\\n\\n\\n        for k in range(len(spam_trigger)):\\n            X_data_set[k][t] = X_data[k]\\n\\n        t += 1\\n            # A column vector is made of the required X input but switch between train set dev set and test set is still pending.\\n            '"
      ]
     },
     "execution_count": 25,
     "metadata": {},
     "output_type": "execute_result"
    }
   ],
   "source": [
    "# I am NOT USING IT anymore\n",
    "'''\n",
    "def Myway_spam_inputvec():\n",
    "    \n",
    "    # This is what i did (for SVM KERNEL method) but it is not working properly here.\n",
    "    \n",
    "    X_data_set = np.random.randn(len(spam_trigger), len(X)-1)\n",
    "    t = 0\n",
    "    for i in range(len(X)-1):\n",
    "        X_data = []\n",
    "        message = X[i+1]\n",
    "        print(f\"Processing the {i} column of the input layer\")\n",
    "        pure_words = process_mail(message, lower_case = True, stem = True, stop_words = False, gram = 2 )\n",
    "\n",
    "        #print(words)#  Apply it to confirm whether the list is correct or not\n",
    "\n",
    "        for words in spam_trigger:\n",
    "            for email_words in pure_words:\n",
    "                if email_words == words:\n",
    "                    X_data.append(spam_trigger.index(words)) \n",
    "\n",
    "            X_data.append(0)\n",
    "\n",
    "\n",
    "        for k in range(len(spam_trigger)):\n",
    "            X_data_set[k][t] = X_data[k]\n",
    "\n",
    "        t += 1\n",
    "            # A column vector is made of the required X input but switch between train set dev set and test set is still pending.\n",
    "            '''"
   ]
  },
  {
   "cell_type": "code",
   "execution_count": 26,
   "metadata": {},
   "outputs": [],
   "source": [
    "X_completedata = cv.fit_transform(X[1:])"
   ]
  },
  {
   "cell_type": "code",
   "execution_count": 27,
   "metadata": {},
   "outputs": [],
   "source": [
    "X_model_data = X_completedata.toarray()"
   ]
  },
  {
   "cell_type": "code",
   "execution_count": 28,
   "metadata": {},
   "outputs": [
    {
     "data": {
      "text/plain": [
       "array([[0.        , 0.        , 0.        , ..., 0.        , 0.        ,\n",
       "        0.        ],\n",
       "       [0.        , 0.        , 0.        , ..., 0.        , 0.        ,\n",
       "        0.        ],\n",
       "       [0.        , 0.        , 0.        , ..., 0.        , 0.        ,\n",
       "        0.        ],\n",
       "       ...,\n",
       "       [0.11913249, 0.        , 0.        , ..., 0.        , 0.        ,\n",
       "        0.        ],\n",
       "       [0.        , 0.        , 0.        , ..., 0.        , 0.        ,\n",
       "        0.        ],\n",
       "       [0.        , 0.        , 0.        , ..., 0.        , 0.        ,\n",
       "        0.        ]])"
      ]
     },
     "execution_count": 28,
     "metadata": {},
     "output_type": "execute_result"
    }
   ],
   "source": [
    "X_model_data\n"
   ]
  },
  {
   "cell_type": "code",
   "execution_count": 29,
   "metadata": {},
   "outputs": [
    {
     "name": "stdout",
     "output_type": "stream",
     "text": [
      "(5728, 36996)\n"
     ]
    }
   ],
   "source": [
    "print(X_model_data.shape)\n"
   ]
  },
  {
   "cell_type": "code",
   "execution_count": 30,
   "metadata": {},
   "outputs": [
    {
     "data": {
      "text/plain": [
       "[array(['100', 'affordability', 'aim', 'automaticaily', 'benefits',\n",
       "        'break', 'budget', 'business', 'catchy', 'change', 'changes',\n",
       "        'ciear', 'clear', 'collaboration', 'company', 'content',\n",
       "        'convenience', 'corporate', 'creativeness', 'days', 'distinctive',\n",
       "        'drafts', 'easier', 'easy', 'effective', 'efforts', 'extra',\n",
       "        'fees', 'formats', 'gaps', 'good', 'guaranteed', 'hand', 'hard',\n",
       "        'havinq', 'hotat', 'identity', 'ieader', 'image', 'information',\n",
       "        'interested', 'iogo', 'irresistible', 'isguite', 'isoverwhelminq',\n",
       "        'letsyou', 'list', 'logo', 'logos', 'look', 'love', 'lt', 'make',\n",
       "        'management', 'market', 'marketing', 'naturally', 'nowadays',\n",
       "        'ordered', 'organization', 'original', 'outstanding', 'portfolio',\n",
       "        'practicable', 'products', 'promise', 'promptness', 'provide',\n",
       "        'provided', 'really', 'recollect', 'reflect', 'result',\n",
       "        'satisfaction', 'shouldn', 'specially', 'stationery', 'statlonery',\n",
       "        'structure', 'stylish', 'subject', 'suqgestions', 'surethat',\n",
       "        'task', 'unlimited', 'use', 'website', 'world'], dtype='<U24')]"
      ]
     },
     "execution_count": 30,
     "metadata": {},
     "output_type": "execute_result"
    }
   ],
   "source": [
    "# An example of selected words by TFIDF Vectorizer of the first text email of the text array(X)\n",
    "\n",
    "cv.inverse_transform(X_model_data[0])"
   ]
  },
  {
   "cell_type": "code",
   "execution_count": 31,
   "metadata": {},
   "outputs": [
    {
     "data": {
      "text/plain": [
       "'\\ndef random_shuffle_two_vec(X, Y):\\n    a = X\\n    b = Y\\n\\n    c = list(zip(a, b))\\n\\n    np.random.shuffle(c)\\n\\n    a, b = zip(*c)\\n\\n    return a, b\\n    '"
      ]
     },
     "execution_count": 31,
     "metadata": {},
     "output_type": "execute_result"
    }
   ],
   "source": [
    "# May be used but not using it here\n",
    "# I am not using it here\n",
    "'''\n",
    "def random_shuffle_two_vec(X, Y):\n",
    "    a = X\n",
    "    b = Y\n",
    "\n",
    "    c = list(zip(a, b))\n",
    "\n",
    "    np.random.shuffle(c)\n",
    "\n",
    "    a, b = zip(*c)\n",
    "\n",
    "    return a, b\n",
    "    '''"
   ]
  },
  {
   "cell_type": "code",
   "execution_count": 32,
   "metadata": {},
   "outputs": [],
   "source": [
    "X_model_data_actual = X_model_data.T\n",
    "\n",
    "train_set_X = X_model_data_actual[:, :4869]\n",
    "\n",
    "X_test = X_model_data_actual[:, 4869:]\n",
    "Y_train = Y_model_data[:, :4869]\n",
    "\n",
    "Y_test = Y_model_data[:, 4869:]"
   ]
  },
  {
   "cell_type": "code",
   "execution_count": 33,
   "metadata": {},
   "outputs": [
    {
     "name": "stdout",
     "output_type": "stream",
     "text": [
      "(36996, 4869)\n",
      "(36996, 859)\n",
      "(1, 4869)\n"
     ]
    }
   ],
   "source": [
    "print(train_set_X.shape)\n",
    "print(X_test.shape)\n",
    "print(Y_train.shape)"
   ]
  },
  {
   "cell_type": "code",
   "execution_count": 50,
   "metadata": {},
   "outputs": [
    {
     "name": "stdout",
     "output_type": "stream",
     "text": [
      "Cost after iteration 0: 0.693148\n",
      "Cost after iteration 100: 0.165143\n",
      "Cost after iteration 200: 0.093161\n",
      "Cost after iteration 300: 0.058439\n",
      "Cost after iteration 400: 0.039975\n",
      "Cost after iteration 500: 0.029186\n",
      "Cost after iteration 600: 0.022370\n",
      "Cost after iteration 700: 0.017792\n",
      "Cost after iteration 800: 0.014564\n",
      "Cost after iteration 900: 0.012200\n",
      "Cost after iteration 1000: 0.010414\n",
      "Cost after iteration 1100: 0.009030\n",
      "Cost after iteration 1200: 0.007936\n",
      "Cost after iteration 1300: 0.007054\n",
      "Cost after iteration 1400: 0.006334\n"
     ]
    },
    {
     "data": {
      "image/png": "[encoded data removed]",
      "text/plain": [
       "<Figure size 432x288 with 1 Axes>"
      ]
     },
     "metadata": {
      "needs_background": "light"
     },
     "output_type": "display_data"
    }
   ],
   "source": [
    "parameters, A_hat = Spam_model(train_set_X, Y_train, node_vector = [36996, 20, 5, 1], num_iterations = 1500, print_cost = True)"
   ]
  },
  {
   "cell_type": "markdown",
   "metadata": {},
   "source": [
    "## Prediction"
   ]
  },
  {
   "cell_type": "code",
   "execution_count": 47,
   "metadata": {},
   "outputs": [],
   "source": [
    "A_hat_test, cache = forward_propogation(parameters, X_test)"
   ]
  },
  {
   "cell_type": "code",
   "execution_count": 48,
   "metadata": {},
   "outputs": [],
   "source": [
    "A_hat_pred = np.round(A_hat_test)"
   ]
  },
  {
   "cell_type": "code",
   "execution_count": 49,
   "metadata": {},
   "outputs": [],
   "source": [
    "### Prediction\n",
    "\n",
    "A_hat_train, cache = forward_propogation(parameters, train_set_X)"
   ]
  },
  {
   "cell_type": "code",
   "execution_count": 50,
   "metadata": {},
   "outputs": [],
   "source": [
    "A_hat_train_pred = np.round(A_hat_train)"
   ]
  },
  {
   "cell_type": "code",
   "execution_count": 51,
   "metadata": {},
   "outputs": [
    {
     "data": {
      "text/plain": [
       "array([[1., 1., 1., ..., 0., 0., 0.]])"
      ]
     },
     "execution_count": 51,
     "metadata": {},
     "output_type": "execute_result"
    }
   ],
   "source": [
    "A_hat_train_pred[:, :]\n",
    "    "
   ]
  },
  {
   "cell_type": "code",
   "execution_count": 52,
   "metadata": {},
   "outputs": [
    {
     "data": {
      "text/plain": [
       "array([[0., 1., 1., ..., 0., 0., 0.]])"
      ]
     },
     "execution_count": 52,
     "metadata": {},
     "output_type": "execute_result"
    }
   ],
   "source": [
    "Y_train[:, :]"
   ]
  },
  {
   "cell_type": "code",
   "execution_count": 53,
   "metadata": {},
   "outputs": [
    {
     "name": "stdout",
     "output_type": "stream",
     "text": [
      "[[1. 0. 0. ... 0. 0. 0.]]\n"
     ]
    }
   ],
   "source": [
    "hallahu = A_hat_train_pred - Y_train\n",
    "print(hallahu)"
   ]
  },
  {
   "cell_type": "code",
   "execution_count": 54,
   "metadata": {},
   "outputs": [
    {
     "name": "stdout",
     "output_type": "stream",
     "text": [
      "[array([1., 0., 0., ..., 0., 0., 0.])]\n"
     ]
    }
   ],
   "source": [
    "pred_vec=[]\n",
    "for x in hallahu:\n",
    "    pred_vec.append(x)\n",
    "print(pred_vec)    "
   ]
  },
  {
   "cell_type": "code",
   "execution_count": 55,
   "metadata": {},
   "outputs": [
    {
     "name": "stdout",
     "output_type": "stream",
     "text": [
      "4868\n"
     ]
    }
   ],
   "source": [
    "k = 0\n",
    "for assum in pred_vec:\n",
    "    for numb in assum:\n",
    "        if numb == 0:\n",
    "            k += 1\n",
    "print(k)        "
   ]
  },
  {
   "cell_type": "code",
   "execution_count": 64,
   "metadata": {},
   "outputs": [
    {
     "name": "stdout",
     "output_type": "stream",
     "text": [
      "Train set accuracy is 0.9997946190182789\n"
     ]
    }
   ],
   "source": [
    "l = 4868/4869\n",
    "print(f\"Train set accuracy is {l}\")"
   ]
  },
  {
   "cell_type": "code",
   "execution_count": 60,
   "metadata": {},
   "outputs": [],
   "source": [
    "delta= np.squeeze(A_hat_pred - Y_test)"
   ]
  },
  {
   "cell_type": "code",
   "execution_count": 63,
   "metadata": {},
   "outputs": [
    {
     "name": "stdout",
     "output_type": "stream",
     "text": [
      "1\n"
     ]
    }
   ],
   "source": [
    "t=0\n",
    "for k in delta:\n",
    "    if k != 0:\n",
    "        t=t+1\n",
    "        \n",
    "print(t)    "
   ]
  },
  {
   "cell_type": "code",
   "execution_count": 68,
   "metadata": {},
   "outputs": [
    {
     "name": "stdout",
     "output_type": "stream",
     "text": [
      "Test set accuracy is 0.9988358556461001\n"
     ]
    }
   ],
   "source": [
    "cal = (859-1)/859\n",
    "print(f\"Test set accuracy is {cal}\")"
   ]
  },
  {
   "cell_type": "code",
   "execution_count": null,
   "metadata": {},
   "outputs": [],
   "source": []
  }
 ],
 "metadata": {
  "kernelspec": {
   "display_name": "Python 3",
   "language": "python",
   "name": "python3"
  },
  "language_info": {
   "codemirror_mode": {
    "name": "ipython",
    "version": 3
   },
   "file_extension": ".py",
   "mimetype": "text/x-python",
   "name": "python",
   "nbconvert_exporter": "python",
   "pygments_lexer": "ipython3",
   "version": "3.7.7"
  }
 },
 "nbformat": 4,
 "nbformat_minor": 4
}
